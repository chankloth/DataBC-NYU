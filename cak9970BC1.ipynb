{
  "nbformat": 4,
  "nbformat_minor": 0,
  "metadata": {
    "colab": {
      "provenance": []
    },
    "kernelspec": {
      "name": "python3",
      "display_name": "Python 3"
    },
    "language_info": {
      "name": "python"
    }
  },
  "cells": [
    {
      "cell_type": "markdown",
      "source": [
        "1. Write a function  count_vowels(word) that takes a word as an argument and returns the number of vowels in the word\n",
        "2. Iterate through the following list of animals and print each one in all caps.\n",
        "\n",
        "\n",
        "  animals=['tiger', 'elephant', 'monkey', 'zebra', 'panther']\n",
        "\n",
        "\n",
        "3. Write a program that iterates from 1 to 20, printing each number and whether it's odd or even.\n",
        "4. Write a function sum_of_integers(a, b) that takes two integers as input from the user and returns their sum.\n"
      ],
      "metadata": {
        "id": "8rUaMSHwrq88"
      }
    },
    {
      "cell_type": "code",
      "source": [
        "#Question 1\n",
        "def count_vowels(word):\n",
        "    vowels = \"aeiouAEIOU\"\n",
        "    count = 0\n",
        "\n",
        "    for character in word:\n",
        "        if character in vowels:\n",
        "            count = count + 1\n",
        "\n",
        "    return count\n",
        "\n",
        "# Example usage:\n",
        "name = \"Chantal\"\n",
        "result = count_vowels(name)\n",
        "print(f\"The number of vowels in '{name}' is: {result}\")\n"
      ],
      "metadata": {
        "colab": {
          "base_uri": "https://localhost:8080/"
        },
        "id": "eszH0KHRs9Nl",
        "outputId": "72d4f9f6-0518-4ff7-f652-c9433c66aa54"
      },
      "execution_count": 17,
      "outputs": [
        {
          "output_type": "stream",
          "name": "stdout",
          "text": [
            "The number of vowels in 'Chantal' is: 2\n"
          ]
        }
      ]
    },
    {
      "cell_type": "code",
      "source": [
        "#Question 2\n",
        "animals=['tiger', 'elephant', 'monkey', 'zebra', 'panther']\n",
        "for animal in animals:\n",
        "    print(animal.upper())"
      ],
      "metadata": {
        "colab": {
          "base_uri": "https://localhost:8080/"
        },
        "id": "QuYk3RoVsL9K",
        "outputId": "fd57c50f-cb95-4eb7-b51a-59a66f356fe7"
      },
      "execution_count": 18,
      "outputs": [
        {
          "output_type": "stream",
          "name": "stdout",
          "text": [
            "TIGER\n",
            "ELEPHANT\n",
            "MONKEY\n",
            "ZEBRA\n",
            "PANTHER\n"
          ]
        }
      ]
    },
    {
      "cell_type": "code",
      "source": [
        "#Question 3\n",
        "for number in range(1, 21):\n",
        "\n",
        "  if number%2:\n",
        "    print(f\"{number} = Odd\")\n",
        "\n",
        "  else:\n",
        "    print(f\"{number} = Even\")"
      ],
      "metadata": {
        "colab": {
          "base_uri": "https://localhost:8080/"
        },
        "id": "M8JHbScat69x",
        "outputId": "b7b10dd7-2d51-42ee-d1c7-e572ca276604"
      },
      "execution_count": 27,
      "outputs": [
        {
          "output_type": "stream",
          "name": "stdout",
          "text": [
            "1 = Odd\n",
            "2 = Even\n",
            "3 = Odd\n",
            "4 = Even\n",
            "5 = Odd\n",
            "6 = Even\n",
            "7 = Odd\n",
            "8 = Even\n",
            "9 = Odd\n",
            "10 = Even\n",
            "11 = Odd\n",
            "12 = Even\n",
            "13 = Odd\n",
            "14 = Even\n",
            "15 = Odd\n",
            "16 = Even\n",
            "17 = Odd\n",
            "18 = Even\n",
            "19 = Odd\n",
            "20 = Even\n"
          ]
        }
      ]
    },
    {
      "cell_type": "code",
      "source": [
        "#Question 4\n",
        "def sum_of_integers(a, b):\n",
        "  return a + b\n",
        "\n",
        "#User Input\n",
        "num1 = int(input(\"First integer: \"))\n",
        "num2 = int(input(\"Second integer: \"))\n",
        "\n",
        "sum = sum_of_integers(num1, num2)\n",
        "print(f\"The sum is {sum}\")"
      ],
      "metadata": {
        "colab": {
          "base_uri": "https://localhost:8080/"
        },
        "id": "tHtcFfsjuecD",
        "outputId": "db7b54d9-e42f-42cc-8b16-7125f821183b"
      },
      "execution_count": 34,
      "outputs": [
        {
          "output_type": "stream",
          "name": "stdout",
          "text": [
            "First integer: 2\n",
            "Second integer: 3\n",
            "The sum is 5\n"
          ]
        }
      ]
    }
  ]
}